{
 "cells": [
  {
   "cell_type": "code",
   "execution_count": 10,
   "metadata": {},
   "outputs": [],
   "source": [
    "import spacy\n",
    "import os\n",
    "import numpy as np\n",
    "\n",
    "nlp = spacy.load(\"en_core_web_sm\")"
   ]
  },
  {
   "cell_type": "code",
   "execution_count": 2,
   "metadata": {},
   "outputs": [],
   "source": [
    "subject_verb_disagreements = {\n",
    "    \"NN\" : [\"VBP\"],\n",
    "    \"NNP\" : [\"VBP\"],\n",
    "    \"PRP\" : [\"VBP\", \"VBZ\"],\n",
    "    \"NNS\" : [\"VBZ\"],\n",
    "    \"NNPS\" : [\"VBZ\"]\n",
    "}"
   ]
  },
  {
   "cell_type": "code",
   "execution_count": 3,
   "metadata": {},
   "outputs": [],
   "source": [
    "def subject_verb_disagree(subject, verb):\n",
    "    if subject.tag_ in subject_verb_disagreements.keys():\n",
    "        if verb.tag_ in subject_verb_disagreements[subject.tag_]:\n",
    "            return True\n",
    "    return False\n",
    "        "
   ]
  },
  {
   "cell_type": "code",
   "execution_count": 4,
   "metadata": {},
   "outputs": [],
   "source": [
    "def count_subject_verb_errors(text):\n",
    "    doc = nlp(text)\n",
    "    errors = 0\n",
    "    \n",
    "    for sent in doc.sents:\n",
    "        for token in sent:\n",
    "            if \"VB\" in token.tag_:\n",
    "                subject = None\n",
    "                for child in token.children:\n",
    "                    if child.dep_ in (\"nsubj\", \"nsubjpass\"):\n",
    "                        subject = child\n",
    "                        break\n",
    "                if subject and subject_verb_disagree(subject, token):\n",
    "                    errors += 1\n",
    "    return errors"
   ]
  },
  {
   "cell_type": "code",
   "execution_count": 6,
   "metadata": {},
   "outputs": [
    {
     "data": {
      "text/plain": [
       "1"
      ]
     },
     "execution_count": 6,
     "metadata": {},
     "output_type": "execute_result"
    }
   ],
   "source": [
    "count_subject_verb_errors(\"Jessica have 8 years old\")"
   ]
  },
  {
   "cell_type": "code",
   "execution_count": 8,
   "metadata": {},
   "outputs": [],
   "source": [
    "mistakes_per_essay = []\n",
    "for filename in os.listdir(os.path.join(\"essays_dataset\", \"essays\")):\n",
    "    with open(os.path.join(\"essays_dataset\", \"essays\", filename)) as file:\n",
    "        text = file.read()\n",
    "        mistakes = count_subject_verb_errors(text)\n",
    "        mistakes_per_essay.append(mistakes)"
   ]
  },
  {
   "cell_type": "code",
   "execution_count": 11,
   "metadata": {},
   "outputs": [],
   "source": [
    "def general_scorer_gaussian_assumption(x, mean, stddev, min_score, max_score, reverse=False):\n",
    "    z_score = (x - mean) / stddev\n",
    "    z_min, z_max = -3, 3\n",
    "\n",
    "    score = (z_score - z_min) / (z_max - z_min) * (max_score - min_score) + min_score\n",
    "    if reverse:\n",
    "        score = max_score - score + min_score\n",
    "    return np.clip(score, min_score, max_score)"
   ]
  },
  {
   "cell_type": "code",
   "execution_count": 19,
   "metadata": {},
   "outputs": [],
   "source": [
    "def score_by_subject_verb_disagreements(num_disagreements, mistakes_list, min_score, max_score):\n",
    "    if num_disagreements < 2:\n",
    "        return max_score\n",
    "    mean = np.mean(mistakes_list)\n",
    "    stddev = np.std(mistakes_list)\n",
    "    return general_scorer_gaussian_assumption(num_disagreements, mean, stddev, min_score, max_score, reverse=True)"
   ]
  },
  {
   "cell_type": "code",
   "execution_count": 21,
   "metadata": {},
   "outputs": [
    {
     "data": {
      "text/plain": [
       "3.83083740592032"
      ]
     },
     "execution_count": 21,
     "metadata": {},
     "output_type": "execute_result"
    }
   ],
   "source": [
    "score_by_subject_verb_disagreements(2, mistakes_per_essay, 1, 5)"
   ]
  },
  {
   "cell_type": "code",
   "execution_count": null,
   "metadata": {},
   "outputs": [],
   "source": []
  }
 ],
 "metadata": {
  "kernelspec": {
   "display_name": "cs421-nlp",
   "language": "python",
   "name": "python3"
  },
  "language_info": {
   "codemirror_mode": {
    "name": "ipython",
    "version": 3
   },
   "file_extension": ".py",
   "mimetype": "text/x-python",
   "name": "python",
   "nbconvert_exporter": "python",
   "pygments_lexer": "ipython3",
   "version": "3.11.8"
  }
 },
 "nbformat": 4,
 "nbformat_minor": 2
}
