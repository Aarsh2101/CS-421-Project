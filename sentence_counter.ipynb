{
 "cells": [
  {
   "cell_type": "code",
   "execution_count": 1,
   "metadata": {},
   "outputs": [],
   "source": [
    "import spacy\n",
    "import os\n",
    "import numpy as np\n",
    "\n",
    "nlp = spacy.load(\"en_core_web_sm\")"
   ]
  },
  {
   "cell_type": "code",
   "execution_count": 2,
   "metadata": {},
   "outputs": [],
   "source": [
    "def count_sentences_with_spacy(text):\n",
    "    doc = nlp(text)\n",
    "    sentences = list(doc.sents)\n",
    "    sentence_count = len(sentences)\n",
    "\n",
    "    return sentence_count\n",
    "\n",
    "\n",
    "def count_main_clauses_with_spacy(text):\n",
    "    # Process the text\n",
    "    doc = nlp(text)\n",
    "    \n",
    "    # Initialize counters\n",
    "    main_clauses = 0\n",
    "    coordinate_clauses = 0\n",
    "    subordinate_clauses = 0\n",
    "    \n",
    "    # Iterate over sentences in the document\n",
    "    for sentence in doc.sents:\n",
    "        # Look for finite verbs in the sentence\n",
    "        for token in sentence:\n",
    "            if token.pos_ == \"VERB\":\n",
    "                # Check if this verb is the root of the sentence (indicating a main clause)\n",
    "                if token.dep_ == \"ROOT\":\n",
    "                    main_clauses += 1\n",
    "                # Check for coordination (indicating a coordinate clause)\n",
    "                elif token.dep_ == \"conj\" and token.head.pos_ == \"VERB\":\n",
    "                    coordinate_clauses += 1\n",
    "                # Check for subordination (indicating a subordinate clause)\n",
    "                elif token.dep_ == \"advcl\":\n",
    "                    subordinate_clauses += 1\n",
    "    \n",
    "    return main_clauses, coordinate_clauses, subordinate_clauses\n"
   ]
  },
  {
   "cell_type": "code",
   "execution_count": 24,
   "metadata": {},
   "outputs": [
    {
     "name": "stdout",
     "output_type": "stream",
     "text": [
      "5\n",
      "(4, 0, 1)\n"
     ]
    }
   ],
   "source": [
    "# load text from essays_dataset/essays/38209.txt\n",
    "with open(os.path.join(\"essays_dataset\", \"essays\", \"1974703.txt\")) as file:\n",
    "    text = file.read()\n",
    "    print(count_sentences_with_spacy(text))\n",
    "    print(count_main_clauses_with_spacy(text))\n"
   ]
  },
  {
   "cell_type": "code",
   "execution_count": 3,
   "metadata": {},
   "outputs": [],
   "source": [
    "sentence_counts = []\n",
    "# iterate over all essays in essays_dataset/essays\n",
    "for filename in os.listdir(os.path.join(\"essays_dataset\", \"essays\")):\n",
    "    with open(os.path.join(\"essays_dataset\", \"essays\", filename)) as file:\n",
    "        text = file.read()\n",
    "        sentence_count = count_sentences_with_spacy(text)\n",
    "        sentence_counts.append(sentence_count)"
   ]
  },
  {
   "cell_type": "code",
   "execution_count": 4,
   "metadata": {},
   "outputs": [],
   "source": [
    "import json\n",
    "with open(\"sentence_counts.json\", \"w\") as file:\n",
    "    json.dump(sentence_counts, file)"
   ]
  },
  {
   "cell_type": "code",
   "execution_count": 5,
   "metadata": {},
   "outputs": [],
   "source": [
    "def general_scorer_gaussian_assumption(x, mean, stddev, min_score, max_score, reverse=False):\n",
    "    z_score = (x - mean) / stddev\n",
    "    z_min, z_max = -3, 3\n",
    "\n",
    "    score = (z_score - z_min) / (z_max - z_min) * (max_score - min_score) + min_score\n",
    "    if reverse:\n",
    "        score = max_score - score + min_score\n",
    "    return np.clip(score, min_score, max_score)"
   ]
  },
  {
   "cell_type": "code",
   "execution_count": 6,
   "metadata": {},
   "outputs": [],
   "source": [
    "def score_by_num_sentences(num_sentences, sentence_counts, min_score, max_score):\n",
    "    if num_sentences <= 10:\n",
    "        return min_score\n",
    "    else:\n",
    "        sentence_counts = np.array(sentence_counts)\n",
    "        sentence_counts = sentence_counts[sentence_counts > 10]\n",
    "        mean = np.mean(sentence_counts)\n",
    "        stddev = np.std(sentence_counts)\n",
    "        score = general_scorer_gaussian_assumption(num_sentences, mean, stddev, min_score, max_score)\n",
    "        return score"
   ]
  },
  {
   "cell_type": "code",
   "execution_count": 7,
   "metadata": {},
   "outputs": [
    {
     "name": "stdout",
     "output_type": "stream",
     "text": [
      "Sentences = 10 1\n",
      "Sentences = 11 2.026804024887289\n",
      "Sentences = 12 2.166100934284466\n",
      "Sentences = 13 2.305397843681643\n",
      "Sentences = 14 2.44469475307882\n",
      "Sentences = 15 2.5839916624759978\n",
      "Sentences = 16 2.7232885718731747\n",
      "Sentences = 17 2.8625854812703517\n",
      "Sentences = 18 3.001882390667529\n",
      "Sentences = 19 3.1411793000647066\n",
      "Sentences = 20 3.280476209461884\n",
      "Sentences = 21 3.419773118859061\n",
      "Sentences = 22 3.559070028256238\n",
      "Sentences = 23 3.698366937653416\n",
      "Sentences = 24 3.8376638470505924\n",
      "Sentences = 25 3.97696075644777\n",
      "Sentences = 26 4.116257665844946\n",
      "Sentences = 27 4.255554575242124\n",
      "Sentences = 28 4.394851484639302\n",
      "Sentences = 29 4.534148394036478\n",
      "Sentences = 30 4.673445303433656\n",
      "Sentences = 31 4.812742212830832\n",
      "Sentences = 32 4.95203912222801\n",
      "Sentences = 33 5.0\n",
      "Sentences = 34 5.0\n",
      "Sentences = 35 5.0\n",
      "Sentences = 36 5.0\n",
      "Sentences = 37 5.0\n",
      "15.02\n"
     ]
    }
   ],
   "source": [
    "for s in range(10, 38):\n",
    "    print(f\"Sentences = {s}\", score_by_num_sentences(s, sentence_counts, 1, 5))\n",
    "\n",
    "print(np.mean(sentence_counts))\n"
   ]
  },
  {
   "cell_type": "code",
   "execution_count": 46,
   "metadata": {},
   "outputs": [
    {
     "data": {
      "image/png": "[encoded data removed]",
      "text/plain": [
       "<Figure size 640x480 with 1 Axes>"
      ]
     },
     "metadata": {},
     "output_type": "display_data"
    }
   ],
   "source": [
    "import matplotlib.pyplot as plt\n",
    "\n",
    "sentence_counts = np.array(sentence_counts)\n",
    "sentence_counts = sentence_counts[sentence_counts > 10]\n",
    "plt.hist(sentence_counts, bins=50)\n",
    "plt.show()"
   ]
  },
  {
   "cell_type": "code",
   "execution_count": 8,
   "metadata": {},
   "outputs": [
    {
     "data": {
      "text/plain": [
       "(1, 0, 0)"
      ]
     },
     "execution_count": 8,
     "metadata": {},
     "output_type": "execute_result"
    }
   ],
   "source": [
    "count_main_clauses_with_spacy(\"I want to do well I am sad\")"
   ]
  }
 ],
 "metadata": {
  "kernelspec": {
   "display_name": "cs421-nlp",
   "language": "python",
   "name": "python3"
  },
  "language_info": {
   "codemirror_mode": {
    "name": "ipython",
    "version": 3
   },
   "file_extension": ".py",
   "mimetype": "text/x-python",
   "name": "python",
   "nbconvert_exporter": "python",
   "pygments_lexer": "ipython3",
   "version": "3.11.8"
  }
 },
 "nbformat": 4,
 "nbformat_minor": 2
}
