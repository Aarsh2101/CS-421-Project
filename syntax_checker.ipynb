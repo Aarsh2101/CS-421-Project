{
 "cells": [
  {
   "cell_type": "code",
   "execution_count": 1,
   "metadata": {},
   "outputs": [],
   "source": [
    "import nltk\n",
    "from nltk import pos_tag, word_tokenize\n",
    "from nltk.chunk import RegexpParser\n",
    "from nltk.corpus import brown\n",
    "from tqdm import tqdm"
   ]
  },
  {
   "cell_type": "code",
   "execution_count": 14,
   "metadata": {},
   "outputs": [
    {
     "name": "stderr",
     "output_type": "stream",
     "text": [
      "100%|██████████| 57340/57340 [00:32<00:00, 1763.82it/s]\n"
     ]
    }
   ],
   "source": [
    "# Define your grammar\n",
    "grammar = r\"\"\"\n",
    "    NP: {<DT>?<JJ.*>*<NN.*>+|<NNPS>+}        # Noun Phrase: optional determiner, any number of adjectives, singular or plural nouns (including proper nouns)\n",
    "        {<PRP>|<PRP$>}                       # Personal pronouns or possessive pronouns\n",
    "        {<NP><POS><NN.*>+|<NNP>+|<NNPS>+}    # Noun phrases that use possessive endings or include proper nouns (singular/plural)\n",
    "        {<EX><VB.*>}                         # Existential there constructions, e.g., \"There is\" or \"There are\"\n",
    "        {<NNP>+|<NNPS>+}                     # Proper noun sequences, potentially forming proper noun phrases (singular/plural)\n",
    "    VP: {<MD>?<VB.*>+<RB.*>*}                # Verb Phrase: optional modal, one or more verbs (including past tense), any number of adverbs\n",
    "        {<TO><VB>}                           # Infinitive verbs\n",
    "        {<VBD><RB.*>*}                       # Past tense verb followed by any number of adverbs\n",
    "        {<VBG><RB.*>*}                       # Present participle verb followed by any number of adverbs\n",
    "        {<VBP><RB.*>*}                       # Non-3rd person singular present verb followed by any number of adverbs\n",
    "        {<VBN><RB.*>*}                       # Past participle verb followed by any number of adverbs\n",
    "        {<VBZ><RB.*>*}                       # 3rd person singular present verb followed by any number of adverbs\n",
    "    ADJP: {<RB.*>*<JJ.*>+}                   # Adjective Phrase: any number of adverbs followed by one or more adjectives\n",
    "        {<JJR>|<JJS>}                        # Comparative and Superlative adjectives directly\n",
    "    ADVP: {<RB.*>+}                          # Adverb Phrase: one or more adverbs\n",
    "        {<RBR>|<RBS>}                        # Comparative and superlative adverbs\n",
    "    PP: {<IN><NP>}                           # Prepositional Phrase: preposition followed by a noun phrase\n",
    "    CONJP: {<CC>}                            # Conjunction Phrase: coordinating conjunction\n",
    "    INTJ: {<UH>}                             # Interjection\n",
    "    DP: {<DT>|<PDT>|<WDT>|<EX>}              # Determiner Phrase: determiners, pre-determiners, wh-determiners, or existential \"there\"\n",
    "    QP: {<CD><NNS|NN>?}                      # Quantifier Phrase: cardinal number followed optionally by plural or singular noun\n",
    "    WHNP: {<WP>|<WP$>|<WRB>|<WDT>}           # WH Noun Phrase: wh-pronoun, possessive wh-pronoun, wh-adverb, or wh-determiner\n",
    "    SYMP: {<SYM>}                            # Symbol Phrase: handling symbols\n",
    "    CD-NP: {<CD><JJ.*>*<NN.*>+}              # Number followed by adjectives and nouns\n",
    "    PAST-VP: {<VBD><RB.*>*}                  # Past tense verb followed by any number of adverbs\n",
    "    PRES-VP: {<VBG><RB.*>*}                  # Present participle verb followed by any number of adverbs\n",
    "    NON3RD-VP: {<VBP><RB.*>*}                # Non-3rd person singular present verb followed by any number of adverbs\n",
    "    PERFECT-VP: {<VBN><RB.*>*}               # Past participle verb followed by any number of adverbs\n",
    "    THIRD-PERSON-VP: {<VBZ><RB.*>*}          # 3rd person singular present verb followed by any number of adverbs\n",
    "    LIST-NP: {<LS><NP>+}                     # List item markers followed by Noun Phrases, e.g., in enumerated lists\n",
    "\"\"\"\n",
    "\n",
    "# s = 'My dog with a broken leg I not want'\n",
    "# tokens = word_tokenize(s)\n",
    "# tagged_tokens = pos_tag(tokens)\n",
    "# tree = cp.parse(tagged_tokens)\n",
    "# tree.draw()\n",
    "\n",
    "parent_child = {}\n",
    "\n",
    "# Create a chunk parser\n",
    "cp = nltk.RegexpParser(grammar)\n",
    "\n",
    "sentences = brown.sents()\n",
    "for sentence in tqdm(sentences):\n",
    "\n",
    "    tagged_tokens = pos_tag(sentence)\n",
    "    tree = cp.parse(tagged_tokens)\n",
    "    # tree.draw()\n",
    "    traverse_tree(tree)"
   ]
  },
  {
   "cell_type": "code",
   "execution_count": 15,
   "metadata": {},
   "outputs": [
    {
     "data": {
      "text/plain": [
       "{'NP': {'DT',\n",
       "  'EX',\n",
       "  'JJ',\n",
       "  'JJR',\n",
       "  'JJS',\n",
       "  'NN',\n",
       "  'NNP',\n",
       "  'NNPS',\n",
       "  'NNS',\n",
       "  'PRP',\n",
       "  'VB',\n",
       "  'VBD',\n",
       "  'VBG',\n",
       "  'VBN',\n",
       "  'VBP',\n",
       "  'VBZ'},\n",
       " 'VP': {'MD', 'RB', 'RBR', 'RBS', 'VB', 'VBD', 'VBG', 'VBN', 'VBP', 'VBZ'},\n",
       " 'PP': {'IN', 'NP'},\n",
       " 'ADVP': {'RB', 'RBR', 'RBS'},\n",
       " 'DP': {'DT', 'EX', 'PDT', 'WDT'},\n",
       " 'CONJP': {'CC'},\n",
       " 'ADJP': {'JJ', 'JJR', 'JJS', 'RB', 'RBR', 'RBS'},\n",
       " 'QP': {'CD'},\n",
       " 'WHNP': {'WP', 'WRB'},\n",
       " 'INTJ': {'UH'},\n",
       " 'SYMP': {'SYM'},\n",
       " 'LIST-NP': {'LS', 'NP'}}"
      ]
     },
     "execution_count": 15,
     "metadata": {},
     "output_type": "execute_result"
    }
   ],
   "source": [
    "parent_child"
   ]
  },
  {
   "cell_type": "code",
   "execution_count": 11,
   "metadata": {},
   "outputs": [],
   "source": [
    "def traverse_tree(tree):\n",
    "    for subtree in tree:\n",
    "        if type(subtree) == nltk.tree.Tree:\n",
    "            parent = subtree.label()\n",
    "            if parent not in parent_child:\n",
    "                parent_child[parent] = set()\n",
    "            for child in subtree:\n",
    "                if type(child) == nltk.tree.Tree:\n",
    "                    parent_child[parent].add(child.label())\n",
    "                else:\n",
    "                    parent_child[parent].add(child[1])\n",
    "            traverse_tree(subtree)\n"
   ]
  },
  {
   "cell_type": "code",
   "execution_count": 58,
   "metadata": {},
   "outputs": [
    {
     "name": "stdout",
     "output_type": "stream",
     "text": [
      "[('It', 'PRP'), ('urged', 'VBD'), ('that', 'IN'), ('the', 'DT'), ('city', 'NN'), ('``', '``'), ('take', 'VB'), ('steps', 'NNS'), ('to', 'TO'), ('remedy', 'VB'), (\"''\", \"''\"), ('this', 'DT'), ('problem', 'NN'), ('.', '.')]\n"
     ]
    },
    {
     "ename": "",
     "evalue": "",
     "output_type": "error",
     "traceback": [
      "\u001b[1;31mThe Kernel crashed while executing code in the current cell or a previous cell. \n",
      "\u001b[1;31mPlease review the code in the cell(s) to identify a possible cause of the failure. \n",
      "\u001b[1;31mClick <a href='https://aka.ms/vscodeJupyterKernelCrash'>here</a> for more info. \n",
      "\u001b[1;31mView Jupyter <a href='command:jupyter.viewOutput'>log</a> for further details."
     ]
    }
   ],
   "source": [
    "tagged_tokens = pos_tag(sentences[10])\n",
    "print(tagged_tokens)\n",
    "tree = cp.parse(tagged_tokens)\n",
    "\n",
    "tree.draw()"
   ]
  }
 ],
 "metadata": {
  "kernelspec": {
   "display_name": ".venv",
   "language": "python",
   "name": "python3"
  },
  "language_info": {
   "codemirror_mode": {
    "name": "ipython",
    "version": 3
   },
   "file_extension": ".py",
   "mimetype": "text/x-python",
   "name": "python",
   "nbconvert_exporter": "python",
   "pygments_lexer": "ipython3",
   "version": "3.11.5"
  }
 },
 "nbformat": 4,
 "nbformat_minor": 2
}
